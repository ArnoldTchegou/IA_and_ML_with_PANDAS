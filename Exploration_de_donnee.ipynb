{
 "cells": [
  {
   "cell_type": "code",
   "execution_count": 3,
   "id": "e0142874",
   "metadata": {},
   "outputs": [
    {
     "name": "stdout",
     "output_type": "stream",
     "text": [
      "============================pourcentage de valeurs manquantes par variables=================================\n",
      "MedInc        0.0\n",
      "HouseAge      0.0\n",
      "AveRooms      0.0\n",
      "AveBedrms     0.0\n",
      "Population    0.0\n",
      "AveOccup      0.0\n",
      "Latitude      0.0\n",
      "Longitude     0.0\n",
      "target        0.0\n",
      "dtype: float64\n",
      "              MedInc  HouseAge  AveRooms  AveBedrms  Population  AveOccup  \\\n",
      "MedInc      1.000000 -0.119034  0.326895  -0.062040    0.004834  0.018766   \n",
      "HouseAge   -0.119034  1.000000 -0.153277  -0.077747   -0.296244  0.013191   \n",
      "AveRooms    0.326895 -0.153277  1.000000   0.847621   -0.072213 -0.004852   \n",
      "AveBedrms  -0.062040 -0.077747  0.847621   1.000000   -0.066197 -0.006181   \n",
      "Population  0.004834 -0.296244 -0.072213  -0.066197    1.000000  0.069863   \n",
      "AveOccup    0.018766  0.013191 -0.004852  -0.006181    0.069863  1.000000   \n",
      "Latitude   -0.079809  0.011173  0.106389   0.069721   -0.108785  0.002366   \n",
      "Longitude  -0.015176 -0.108197 -0.027540   0.013344    0.099773  0.002476   \n",
      "target      0.688075  0.105623  0.151948  -0.046701   -0.024650 -0.023737   \n",
      "\n",
      "            Latitude  Longitude    target  \n",
      "MedInc     -0.079809  -0.015176  0.688075  \n",
      "HouseAge    0.011173  -0.108197  0.105623  \n",
      "AveRooms    0.106389  -0.027540  0.151948  \n",
      "AveBedrms   0.069721   0.013344 -0.046701  \n",
      "Population -0.108785   0.099773 -0.024650  \n",
      "AveOccup    0.002366   0.002476 -0.023737  \n",
      "Latitude    1.000000  -0.924664 -0.144160  \n",
      "Longitude  -0.924664   1.000000 -0.045967  \n",
      "target     -0.144160  -0.045967  1.000000  \n"
     ]
    },
    {
     "data": {
      "image/png": "[encoded data removed]",
      "text/plain": [
       "<Figure size 432x288 with 1 Axes>"
      ]
     },
     "metadata": {
      "needs_background": "light"
     },
     "output_type": "display_data"
    }
   ],
   "source": [
    "from sklearn.linear_model import LinearRegression, Lasso\n",
    "from sklearn.datasets import fetch_california_housing\n",
    "from sklearn.ensemble import RandomForestRegressor\n",
    "import matplotlib.pyplot as plt \n",
    "import seaborn as sns\n",
    "import pandas as pd\n",
    "import numpy as np\n",
    "\n",
    "# Charger le dataset\n",
    "california = fetch_california_housing()\n",
    "\n",
    "# S´eparer les caract´eristiques et la variable cible\n",
    "x, y = california.data, california.target\n",
    "\n",
    "# Analyse des variables\n",
    "df = pd.DataFrame(data=x, columns=california.feature_names)\n",
    "# Ajouter la variable cible (prix)\n",
    "df['target'] = california.target\n",
    "\n",
    "# Dispersion des variables quantitatives\n",
    "sns.boxplot(x='target', data=df)\n",
    "plt.savefig('boxplot.png')\n",
    "\n",
    "# Vérification des valeurs manquantes\n",
    "print('============================pourcentage de valeurs manquantes par variables=================================')\n",
    "missing_values_percentage = (df.shape[0] - df.count()) / df.shape[0] * 100\n",
    "print(missing_values_percentage)\n",
    "\n",
    "# Heatmap\n",
    "sns.heatmap(df.isnull(), yticklabels=False, cbar=False, cmap='viridis')\n",
    "plt.savefig('heatmap.png')\n",
    "\n",
    "# Mesure de corrélation entre les variables\n",
    "correlation_matrix = df.corr()\n",
    "print(correlation_matrix)\n",
    "\n",
    "# Matrice de corrélation\n",
    "corr_matrix = df.corr()\n",
    "plt.figure(figsize=(12, 8))\n",
    "sns.heatmap(corr_matrix, annot=True, cmap='coolwarm')\n",
    "plt.title('Matrice de corrélation')\n",
    "plt.tight_layout()\n",
    "plt.savefig('matrice_correlation.png')\n",
    "plt.close()\n",
    "\n",
    "# Histogrammes des caractéristiques\n",
    "df.hist(bins=30, figsize=(15, 10))\n",
    "plt.tight_layout()\n",
    "plt.savefig('histogrammes.png')\n",
    "plt.close()\n",
    "\n",
    "# Boîtes à moustaches\n",
    "plt.figure(figsize=(15, 8))\n",
    "sns.boxplot(data=df, x='MedInc', y='target')\n",
    "plt.title('Prix médian des logements en fonction du revenu médian des ménages')\n",
    "plt.tight_layout()\n",
    "plt.savefig('boxplot.png')\n",
    "plt.close()"
   ]
  },
  {
   "cell_type": "code",
   "execution_count": null,
   "id": "150d14c9",
   "metadata": {},
   "outputs": [],
   "source": []
  }
 ],
 "metadata": {
  "kernelspec": {
   "display_name": "Python 3",
   "language": "python",
   "name": "python3"
  },
  "language_info": {
   "codemirror_mode": {
    "name": "ipython",
    "version": 3
   },
   "file_extension": ".py",
   "mimetype": "text/x-python",
   "name": "python",
   "nbconvert_exporter": "python",
   "pygments_lexer": "ipython3",
   "version": "3.8.8"
  }
 },
 "nbformat": 4,
 "nbformat_minor": 5
}
