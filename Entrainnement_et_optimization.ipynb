{
 "cells": [
  {
   "cell_type": "code",
   "execution_count": 10,
   "id": "be50f8e1",
   "metadata": {},
   "outputs": [
    {
     "name": "stdout",
     "output_type": "stream",
     "text": [
      "MedInc        0.0\n",
      "HouseAge      0.0\n",
      "AveRooms      0.0\n",
      "AveBedrms     0.0\n",
      "Population    0.0\n",
      "AveOccup      0.0\n",
      "Latitude      0.0\n",
      "Longitude     0.0\n",
      "target        0.0\n",
      "dtype: float64\n",
      "Linear Regression: R-squared (R^2) score: 57.58%\n",
      "Lasso Regression: R-squared (R^2) score: 28.42%\n",
      "Random Forest Regressor: R-squared (R^2) score: 80.70%\n",
      "\n",
      "Best Model: Random Forest Regressor\n"
     ]
    }
   ],
   "source": [
    "from sklearn.metrics import mean_absolute_error, mean_squared_error, r2_score\n",
    "from sklearn.model_selection import train_test_split, GridSearchCV\n",
    "from sklearn.linear_model import LinearRegression, Lasso\n",
    "from sklearn.datasets import fetch_california_housing\n",
    "from sklearn.model_selection import train_test_split\n",
    "from sklearn.ensemble import RandomForestRegressor\n",
    "import matplotlib.pyplot as plt \n",
    "import seaborn as sns\n",
    "import pandas as pd\n",
    "import numpy as np\n",
    "\n",
    "# Charger le dataset\n",
    "california = fetch_california_housing()\n",
    "\n",
    "# S´eparer les caract´eristiques et la variable cible\n",
    "x, y = california.data, california.target\n",
    "\n",
    "# Analyse des variables\n",
    "df_data = pd.DataFrame(data=x, columns=california.feature_names)\n",
    "# Ajouter la variable cible (prix)\n",
    "df_data['target'] = california.target\n",
    "\n",
    "# Vérification des valeurs manquantes\n",
    "missing_values_percentage = (df_data.shape[0] - df_data.count()) / df_data.shape[0] * 100\n",
    "print(missing_values_percentage)\n",
    "\n",
    "# Separate features and target variable\n",
    "X = df_data.drop([\"target\"], axis=1)\n",
    "Y = df_data[\"target\"]\n",
    "\n",
    "# Split dataset into training and testing sets\n",
    "X_train, X_test, Y_train, Y_test = train_test_split(X, Y, test_size=0.2, random_state=42)\n",
    "\n",
    "# Mise en en place des modèles d'entrainements\n",
    "# Initialize models\n",
    "linear_reg = LinearRegression()\n",
    "lasso_reg = Lasso()\n",
    "random_forest_reg = RandomForestRegressor()\n",
    "\n",
    "# Train models\n",
    "linear_reg.fit(X_train, Y_train)\n",
    "lasso_reg.fit(X_train, Y_train)\n",
    "random_forest_reg.fit(X_train, Y_train)\n",
    "\n",
    "# Make predictions\n",
    "y_pred_linear = linear_reg.predict(X_test)\n",
    "y_pred_lasso = lasso_reg.predict(X_test)\n",
    "y_pred_rf = random_forest_reg.predict(X_test)\n",
    "\n",
    "# Initialize models\n",
    "models = {\n",
    "    'Linear Regression': LinearRegression(),\n",
    "    'Lasso Regression': Lasso(),\n",
    "    'Random Forest Regressor': RandomForestRegressor()\n",
    "}\n",
    "\n",
    "# Train and evaluate models\n",
    "for name, model in models.items():\n",
    "    model.fit(X_train, Y_train)\n",
    "    y_pred = model.predict(X_test)\n",
    "    r2 = r2_score(Y_test, y_pred)\n",
    "    print(f\"{name}: R-squared (R^2) score: {r2*100:.2f}%\")\n",
    "\n",
    "# Select the best model\n",
    "best_model_name = max(models, key=lambda x: r2_score(Y_test, models[x].predict(X_test)))\n",
    "best_model = models[best_model_name]\n",
    "print(f\"\\nBest Model: {best_model_name}\")"
   ]
  },
  {
   "cell_type": "code",
   "execution_count": 11,
   "id": "1f3eb7a5",
   "metadata": {},
   "outputs": [
    {
     "name": "stdout",
     "output_type": "stream",
     "text": [
      "Parameters currently in use:\n",
      "\n",
      "{'bootstrap': True,\n",
      " 'ccp_alpha': 0.0,\n",
      " 'criterion': 'mse',\n",
      " 'max_depth': None,\n",
      " 'max_features': 'auto',\n",
      " 'max_leaf_nodes': None,\n",
      " 'max_samples': None,\n",
      " 'min_impurity_decrease': 0.0,\n",
      " 'min_impurity_split': None,\n",
      " 'min_samples_leaf': 1,\n",
      " 'min_samples_split': 2,\n",
      " 'min_weight_fraction_leaf': 0.0,\n",
      " 'n_estimators': 100,\n",
      " 'n_jobs': None,\n",
      " 'oob_score': False,\n",
      " 'random_state': None,\n",
      " 'verbose': 0,\n",
      " 'warm_start': False}\n"
     ]
    }
   ],
   "source": [
    "from pprint import pprint\n",
    "# Look at parameters used by our current forest\n",
    "print('Parameters currently in use:\\n')\n",
    "pprint(random_forest_reg.get_params())"
   ]
  },
  {
   "cell_type": "code",
   "execution_count": 12,
   "id": "effc0765",
   "metadata": {},
   "outputs": [
    {
     "name": "stdout",
     "output_type": "stream",
     "text": [
      "{'bootstrap': [True, False],\n",
      " 'max_depth': [3, 7, 11, 16, 20],\n",
      " 'max_features': ['auto', 'sqrt'],\n",
      " 'n_estimators': [200, 400, 600, 800, 1000, 1200, 1400, 1600, 1800, 2000]}\n"
     ]
    }
   ],
   "source": [
    "from sklearn.model_selection import RandomizedSearchCV\n",
    "# Number of trees in random forest\n",
    "n_estimators = [int(x) for x in np.linspace(start = 200, stop = 2000, num = 10)]\n",
    "# Number of features to consider at every split\n",
    "max_features = ['auto', 'sqrt']\n",
    "# Maximum number of levels in tree\n",
    "max_depth = [int(x) for x in np.linspace(3, 25, num =5, endpoint=False)]\n",
    "# Method of selecting samples for training each tree\n",
    "bootstrap = [True, False]\n",
    "# Create the random grid\n",
    "random_grid = {'n_estimators': n_estimators,\n",
    "               'max_features': max_features,\n",
    "               'max_depth': max_depth,\n",
    "               'bootstrap': bootstrap}\n",
    "pprint(random_grid)"
   ]
  },
  {
   "cell_type": "code",
   "execution_count": 13,
   "id": "71c47a56",
   "metadata": {},
   "outputs": [
    {
     "name": "stdout",
     "output_type": "stream",
     "text": [
      "Fitting 3 folds for each of 100 candidates, totalling 300 fits\n"
     ]
    },
    {
     "data": {
      "text/plain": [
       "{'n_estimators': 1600,\n",
       " 'max_features': 'sqrt',\n",
       " 'max_depth': 20,\n",
       " 'bootstrap': False}"
      ]
     },
     "execution_count": 13,
     "metadata": {},
     "output_type": "execute_result"
    }
   ],
   "source": [
    "from sklearn.model_selection import RandomizedSearchCV\n",
    "# Use the random grid to search for best hyperparameters\n",
    "rf = RandomForestRegressor()\n",
    "# Random search of parameters, using 3 fold cross validation, \n",
    "# search across 5 different combinations, and use all available cores\n",
    "rf_random = RandomizedSearchCV(estimator = rf, param_distributions = random_grid, n_iter = 100, cv = 3, verbose=2, random_state=42, n_jobs = -1)\n",
    "# Fit the random search model\n",
    "rf_random.fit(X_train, Y_train)\n",
    "rf_random.best_params_"
   ]
  },
  {
   "cell_type": "code",
   "execution_count": 14,
   "id": "e2766312",
   "metadata": {},
   "outputs": [
    {
     "name": "stdout",
     "output_type": "stream",
     "text": [
      "Performance of model_de_base\n",
      "Average Error: 0.3281\n",
      "Accuracy = 81.07%.\n",
      "Performance of model_random\n",
      "Average Error: 0.3167\n",
      "Accuracy = 81.51%.\n",
      "Improvement in performance after Hyperparamter tuning : 0.54%.\n",
      "Fitting 3 folds for each of 25 candidates, totalling 75 fits\n",
      "Average Error: 0.3148\n",
      "Accuracy = 81.62%.\n",
      "Improvement of 0.67%.\n"
     ]
    }
   ],
   "source": [
    "def evaluate(model, X_test, Y_test):\n",
    "    predictions = model.predict(X_test)\n",
    "    errors = abs(predictions - Y_test)\n",
    "    mape = 100 * np.mean(errors / Y_test)\n",
    "    accuracy = 100 - mape\n",
    "    print('Average Error: {:0.4f}'.format(np.mean(errors)))\n",
    "    print('Accuracy = {:0.2f}%.'.format(accuracy))\n",
    "    return accuracy\n",
    "\n",
    "model_de_base = RandomForestRegressor(n_estimators = 100, random_state = 42)\n",
    "model_de_base.fit(X_train, Y_train)\n",
    "print('Performance of model_de_base')\n",
    "base_accuracy = evaluate(model_de_base, X_test, Y_test)\n",
    "\n",
    "model_random = rf_random.best_estimator_\n",
    "print('Performance of model_random')\n",
    "random_accuracy = evaluate(model_random, X_test, Y_test)\n",
    "\n",
    "print('Improvement in performance after Hyperparamter tuning : {:0.2f}%.'.format( 100 * (random_accuracy - base_accuracy) / base_accuracy))\n",
    "\n",
    "\n",
    "from sklearn.model_selection import GridSearchCV\n",
    "# Create the parameter grid based on the results of random search \n",
    "param_grid = {\n",
    "    'bootstrap': [False],\n",
    "    'max_depth': [20, 22, 24, 26, 28],\n",
    "    'max_features': ['sqrt'],\n",
    "    'n_estimators': [1500, 1600, 1700, 1800, 1900]\n",
    "}\n",
    "# Create a based model\n",
    "rf = RandomForestRegressor()\n",
    "# Instantiate the grid search model\n",
    "grid_search = GridSearchCV(estimator = rf, param_grid = param_grid, \n",
    "                          cv = 3, n_jobs = -1, verbose = 2)\n",
    "\n",
    "# Fit the grid search to the data\n",
    "grid_search.fit(X_train, Y_train)\n",
    "grid_search.best_params_\n",
    "\n",
    "best_grid = grid_search.best_estimator_\n",
    "grid_accuracy = evaluate(best_grid, X_test, Y_test)\n",
    "\n",
    "print('Improvement of {:0.2f}%.'.format( 100 * (grid_accuracy - base_accuracy) / base_accuracy))\n",
    "\n"
   ]
  },
  {
   "cell_type": "code",
   "execution_count": 15,
   "id": "841485d3",
   "metadata": {},
   "outputs": [
    {
     "name": "stdout",
     "output_type": "stream",
     "text": [
      "Average Error: 0.6398\n",
      "Accuracy = 56.25%.\n",
      "Average Error: 0.5821\n",
      "Accuracy = 60.88%.\n",
      "Average Error: 0.5320\n",
      "Accuracy = 64.74%.\n",
      "Average Error: 0.4925\n",
      "Accuracy = 67.97%.\n",
      "Average Error: 0.4593\n",
      "Accuracy = 70.52%.\n",
      "Average Error: 0.4310\n",
      "Accuracy = 72.76%.\n",
      "Average Error: 0.4100\n",
      "Accuracy = 74.55%.\n",
      "Average Error: 0.3905\n",
      "Accuracy = 76.07%.\n",
      "Average Error: 0.3763\n",
      "Accuracy = 77.12%.\n",
      "Average Error: 0.3631\n",
      "Accuracy = 78.17%.\n",
      "Average Error: 0.3539\n",
      "Accuracy = 78.74%.\n",
      "Average Error: 0.3479\n",
      "Accuracy = 79.29%.\n",
      "Average Error: 0.3413\n",
      "Accuracy = 79.83%.\n",
      "Average Error: 0.3379\n",
      "Accuracy = 80.07%.\n",
      "Average Error: 0.3381\n",
      "Accuracy = 80.01%.\n",
      "Average Error: 0.3355\n",
      "Accuracy = 80.26%.\n",
      "Average Error: 0.3343\n",
      "Accuracy = 80.32%.\n",
      "Average Error: 0.3321\n",
      "Accuracy = 80.52%.\n"
     ]
    },
    {
     "data": {
      "image/png": "[encoded data removed]",
      "text/plain": [
       "<Figure size 720x432 with 1 Axes>"
      ]
     },
     "metadata": {
      "needs_background": "light"
     },
     "output_type": "display_data"
    }
   ],
   "source": [
    "# Vary max_depth from 3 to 20\n",
    "max_depth_range = range(3, 21)\n",
    "accuracies = []\n",
    "\n",
    "for max_depth in max_depth_range:\n",
    "    # Train Random Forest model with current max_depth\n",
    "    model = RandomForestRegressor(max_depth=max_depth, max_features='sqrt', bootstrap=True, random_state=42)\n",
    "    model.fit(X_train, Y_train)\n",
    "    \n",
    "    # Evaluate model\n",
    "    accuracy = evaluate(model, X_test, Y_test)\n",
    "    accuracies.append(accuracy)\n",
    "\n",
    "# Plot accuracy vs max_depth\n",
    "plt.figure(figsize=(10, 6))\n",
    "plt.plot(max_depth_range, accuracies, marker='o', linestyle='-')\n",
    "plt.title('Accuracy vs max_depth in Random Forest')\n",
    "plt.xlabel('max_depth')\n",
    "plt.ylabel('Accuracy')\n",
    "plt.grid(True)\n",
    "plt.xticks(range(3, 21))\n",
    "plt.show()"
   ]
  },
  {
   "cell_type": "code",
   "execution_count": null,
   "id": "c0b5c7e7",
   "metadata": {},
   "outputs": [],
   "source": []
  }
 ],
 "metadata": {
  "kernelspec": {
   "display_name": "Python 3",
   "language": "python",
   "name": "python3"
  },
  "language_info": {
   "codemirror_mode": {
    "name": "ipython",
    "version": 3
   },
   "file_extension": ".py",
   "mimetype": "text/x-python",
   "name": "python",
   "nbconvert_exporter": "python",
   "pygments_lexer": "ipython3",
   "version": "3.8.8"
  }
 },
 "nbformat": 4,
 "nbformat_minor": 5
}
